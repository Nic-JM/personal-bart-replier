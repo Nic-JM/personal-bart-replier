{
 "cells": [
  {
   "cell_type": "code",
   "execution_count": 1,
   "id": "107311da",
   "metadata": {},
   "outputs": [],
   "source": [
    "import pandas as pd\n",
    "import json\n",
    "import numpy as np\n",
    "from datetime import datetime\n",
    "from datetime import timedelta\n",
    "from IPython.display import display\n"
   ]
  },
  {
   "cell_type": "markdown",
   "id": "0eb5229d",
   "metadata": {},
   "source": [
    "<div style=\"background-color:#FFA726;padding:10px;border-radius:5px;text-align: center;\">\n",
    "    <h2>Whatsapp Chat Data Cleaning </h2>\n",
    "</div>"
   ]
  },
  {
   "cell_type": "markdown",
   "id": "3345a4ac",
   "metadata": {},
   "source": [
    "This notebooks purpose is to clean WhatsApp message data in preparation for training a language model that can learn to generate replies in my personal style.\n",
    "\n",
    "To create usable training pairs, the raw sequential chat data is processed into (input, response) format — where the input consists of one or more messages sent to me, and the response is my reply.\n"
   ]
  },
  {
   "cell_type": "markdown",
   "id": "d9337c15",
   "metadata": {},
   "source": [
    "### Define the Data Frame data_set\n",
    " - This Data Frame will be filled with a 'message' as the independent variable and 'response' as the dependent variable"
   ]
  },
  {
   "cell_type": "code",
   "execution_count": 2,
   "id": "ed024ef1",
   "metadata": {},
   "outputs": [],
   "source": [
    "data_set = pd.DataFrame()"
   ]
  },
  {
   "cell_type": "markdown",
   "id": "b5b28c25",
   "metadata": {},
   "source": [
    "<div style=\"background-color:#FFA726;padding:10px;border-radius:5px;text-align: center;\">\n",
    "    <h2> Function For Privacy </h2>\n",
    "</div>"
   ]
  },
  {
   "cell_type": "markdown",
   "id": "a2eecf98",
   "metadata": {},
   "source": [
    "- Since I will be using my own personal messages to build this chat bot and I do not want anyone to be able to see my private messages when showing the progress of the Data Frame, I thus want to hide all information such as:\n",
    "    - the messages sent\n",
    "    - the name of the contact I'm messaging"
   ]
  },
  {
   "cell_type": "code",
   "execution_count": 3,
   "id": "9cceba22",
   "metadata": {},
   "outputs": [],
   "source": [
    "def show_df(df):\n",
    "    \"\"\"\n",
    "    This function outputs a Data Frame after replacing all sensitive information with generic values\n",
    "    \n",
    "    Args:\n",
    "    df (Pandas DataFrame) :The data frame that I want to print\n",
    "    \"\"\"\n",
    "    \n",
    "    col_names = [\"sender_of_replied_to_message\", \"message_replied_to\", \"message_info\", \"message\"]\n",
    "    reply_message_count = 0\n",
    "    message_count = 0\n",
    "    \n",
    "    output = df.head(10).reset_index(drop=True).copy()\n",
    "\n",
    "    for i in range(len(output)):\n",
    "        row = output.iloc[i]\n",
    "\n",
    "        if len(output.columns) > 2:\n",
    "            if row[col_names[0]] != None and row[col_names[0]] != \"You\":\n",
    "                output.at[i, col_names[0]] = \"Friend\"\n",
    "\n",
    "            if row[col_names[1]] != None:\n",
    "                output.at[i, col_names[1]] = f\"Random message replied to {reply_message_count}\"\n",
    "                reply_message_count += 1\n",
    "\n",
    "        if row[col_names[2]] != None:\n",
    "            begining_index = output.at[i, col_names[2]].find(']') + 2\n",
    "            end_index = output.at[i, col_names[2]].find(':', begining_index)\n",
    "\n",
    "            name_of_sender = str(output.at[i, col_names[2]])[begining_index:end_index]\n",
    "\n",
    "            if name_of_sender != 'Nic' and name_of_sender != 'You':\n",
    "                output.at[i, col_names[2]] = f\"{output.at[i, col_names[2]][0:begining_index - 1]} Friend:\"\n",
    "\n",
    "            if name_of_sender == 'Nic' or name_of_sender == 'You':\n",
    "                output.at[i, col_names[2]] = f\"{output.at[i, col_names[2]][0:begining_index - 1]} Nic:\"\n",
    "\n",
    "        if row[col_names[3]] != None:\n",
    "            output.at[i, col_names[3]] = f\"Message {message_count}\"\n",
    "            message_count += 1\n",
    "    \n",
    "    display(output)"
   ]
  },
  {
   "cell_type": "markdown",
   "id": "e474a692",
   "metadata": {},
   "source": [
    "<div style=\"background-color:#FFA726;padding:10px;border-radius:5px;text-align: center;\">\n",
    "    <h2>Reading In The Data </h2>\n",
    "</div>"
   ]
  },
  {
   "cell_type": "markdown",
   "id": "13483df5",
   "metadata": {},
   "source": [
    "- I want to make each chat its own Data Frame in order to remove chats that dont meet the specific criterion that would make it applicable to act as observations to fine-tune the language model\n",
    "- I thus don't want to join all the different chats messages into one Data Frame just yet\n"
   ]
  },
  {
   "cell_type": "code",
   "execution_count": 4,
   "id": "7bd86434",
   "metadata": {},
   "outputs": [],
   "source": [
    "with open(\"whatsapp_messages.json\", \"r\", encoding=\"utf-8\") as f:\n",
    "    raw_data = json.load(f)"
   ]
  },
  {
   "cell_type": "code",
   "execution_count": 5,
   "id": "27a0b3a5",
   "metadata": {},
   "outputs": [],
   "source": [
    "dfs = []\n",
    "\n",
    "for chat in raw_data:\n",
    "    df = pd.DataFrame(chat)\n",
    "    dfs.append(df)"
   ]
  },
  {
   "cell_type": "code",
   "execution_count": 6,
   "id": "8e4681d4",
   "metadata": {},
   "outputs": [
    {
     "name": "stdout",
     "output_type": "stream",
     "text": [
      "239\n"
     ]
    }
   ],
   "source": [
    "print(len(dfs))"
   ]
  },
  {
   "cell_type": "markdown",
   "id": "e5b0fa65",
   "metadata": {},
   "source": [
    "<div style=\"background-color:#FFA726;padding:10px;border-radius:5px;text-align: center;\">\n",
    "    <h2>Cleaning The Data</h2>\n",
    "</div>"
   ]
  },
  {
   "cell_type": "code",
   "execution_count": 7,
   "id": "f1c8f670",
   "metadata": {},
   "outputs": [
    {
     "name": "stdout",
     "output_type": "stream",
     "text": [
      "<class 'pandas.core.frame.DataFrame'>\n",
      "RangeIndex: 48 entries, 0 to 47\n",
      "Data columns (total 8 columns):\n",
      " #   Column  Non-Null Count  Dtype \n",
      "---  ------  --------------  ----- \n",
      " 0   0       1 non-null      object\n",
      " 1   1       1 non-null      object\n",
      " 2   2       48 non-null     bool  \n",
      " 3   3       46 non-null     object\n",
      " 4   4       45 non-null     object\n",
      " 5   5       48 non-null     bool  \n",
      " 6   6       48 non-null     bool  \n",
      " 7   7       48 non-null     bool  \n",
      "dtypes: bool(4), object(4)\n",
      "memory usage: 1.8+ KB\n"
     ]
    }
   ],
   "source": [
    "dfs[0].info()"
   ]
  },
  {
   "cell_type": "markdown",
   "id": "b79fdc4b",
   "metadata": {},
   "source": [
    "## Removing Chats with Only One Message\n",
    "\n",
    "- Some chats contain only a single message.\n",
    "- This occurs when the last activity in the chat was over a year ago:\n",
    "    - WhatsApp Web only retains messages sent within the past year.\n",
    "    - If a chat has been inactive for more than a year, WhatsApp Web will display only the final message sent in that conversation.\n",
    "- These isolated messages cannot be used as input for training the language model, and are therefore excluded from the dataset.\n"
   ]
  },
  {
   "cell_type": "code",
   "execution_count": 8,
   "id": "22800f99",
   "metadata": {},
   "outputs": [],
   "source": [
    "non_empty_dfs = []\n",
    "\n",
    "for df in dfs:\n",
    "    if len(df) > 1:\n",
    "        non_empty_dfs.append(df)"
   ]
  },
  {
   "cell_type": "code",
   "execution_count": 9,
   "id": "530f1571",
   "metadata": {},
   "outputs": [
    {
     "name": "stdout",
     "output_type": "stream",
     "text": [
      "Number of chats originally: 239 \n",
      "Number of chats after removing chats now: 117\n"
     ]
    }
   ],
   "source": [
    "print(f\"Number of chats originally: {len(dfs)} \\nNumber of chats after removing chats now: {len(non_empty_dfs)}\")"
   ]
  },
  {
   "cell_type": "code",
   "execution_count": 10,
   "id": "f2d8aaf7",
   "metadata": {},
   "outputs": [],
   "source": [
    "dfs = non_empty_dfs"
   ]
  },
  {
   "cell_type": "markdown",
   "id": "e8500c86",
   "metadata": {},
   "source": [
    "## Removing 'Empty' Information\n",
    "\n",
    "- The scraper was not designed to detect or save voice notes or files.\n",
    "- As a result, when such messages are encountered, no information is recorded about them.\n",
    "- These entries are effectively empty and are removed from the dataset.\n"
   ]
  },
  {
   "cell_type": "code",
   "execution_count": 11,
   "id": "fca8e93b",
   "metadata": {},
   "outputs": [],
   "source": [
    "for df in dfs:\n",
    "    empty = (\n",
    "        df[0].isna() &\n",
    "        df[1].isna() &\n",
    "        (df[2] == False) &\n",
    "        df[3].isna() &\n",
    "        df[4].isna() &\n",
    "        (df[5] == False) &\n",
    "        (df[6] == False) &\n",
    "        (df[7] == False)     \n",
    "    )\n",
    "    \n",
    "    empty_index = df[empty].index\n",
    "\n",
    "    #Now drop the index's\n",
    "    df = df.drop(index = empty_index, inplace=True)"
   ]
  },
  {
   "cell_type": "code",
   "execution_count": 12,
   "id": "3b629db3",
   "metadata": {},
   "outputs": [],
   "source": [
    "#First im changing the names of the coloums to be more informative than just numbers\n",
    "\n",
    "col_names = [\"sender_of_replied_to_message\", \"message_replied_to\", \"media_in_message_replied_to\", \n",
    "            \"message_info\", \"message\", \"image_in_message\", \"sticker_in_message\", \"video_in_message\"]\n",
    "for df in dfs:\n",
    "    df.columns = col_names"
   ]
  },
  {
   "cell_type": "code",
   "execution_count": 13,
   "id": "a2474d95",
   "metadata": {},
   "outputs": [
    {
     "data": {
      "text/html": [
       "<div>\n",
       "<style scoped>\n",
       "    .dataframe tbody tr th:only-of-type {\n",
       "        vertical-align: middle;\n",
       "    }\n",
       "\n",
       "    .dataframe tbody tr th {\n",
       "        vertical-align: top;\n",
       "    }\n",
       "\n",
       "    .dataframe thead th {\n",
       "        text-align: right;\n",
       "    }\n",
       "</style>\n",
       "<table border=\"1\" class=\"dataframe\">\n",
       "  <thead>\n",
       "    <tr style=\"text-align: right;\">\n",
       "      <th></th>\n",
       "      <th>sender_of_replied_to_message</th>\n",
       "      <th>message_replied_to</th>\n",
       "      <th>media_in_message_replied_to</th>\n",
       "      <th>message_info</th>\n",
       "      <th>message</th>\n",
       "      <th>image_in_message</th>\n",
       "      <th>sticker_in_message</th>\n",
       "      <th>video_in_message</th>\n",
       "    </tr>\n",
       "  </thead>\n",
       "  <tbody>\n",
       "    <tr>\n",
       "      <th>0</th>\n",
       "      <td>None</td>\n",
       "      <td>None</td>\n",
       "      <td>False</td>\n",
       "      <td>[12:01, 4/25/2024] Nic:</td>\n",
       "      <td>Message 0</td>\n",
       "      <td>False</td>\n",
       "      <td>False</td>\n",
       "      <td>False</td>\n",
       "    </tr>\n",
       "    <tr>\n",
       "      <th>1</th>\n",
       "      <td>None</td>\n",
       "      <td>None</td>\n",
       "      <td>False</td>\n",
       "      <td>[12:15, 4/25/2024] Friend:</td>\n",
       "      <td>Message 1</td>\n",
       "      <td>False</td>\n",
       "      <td>False</td>\n",
       "      <td>False</td>\n",
       "    </tr>\n",
       "    <tr>\n",
       "      <th>2</th>\n",
       "      <td>None</td>\n",
       "      <td>None</td>\n",
       "      <td>False</td>\n",
       "      <td>[12:15, 4/25/2024] Friend:</td>\n",
       "      <td>Message 2</td>\n",
       "      <td>False</td>\n",
       "      <td>False</td>\n",
       "      <td>False</td>\n",
       "    </tr>\n",
       "    <tr>\n",
       "      <th>3</th>\n",
       "      <td>None</td>\n",
       "      <td>None</td>\n",
       "      <td>False</td>\n",
       "      <td>[20:20, 4/27/2024] Nic:</td>\n",
       "      <td>Message 3</td>\n",
       "      <td>False</td>\n",
       "      <td>False</td>\n",
       "      <td>False</td>\n",
       "    </tr>\n",
       "    <tr>\n",
       "      <th>4</th>\n",
       "      <td>None</td>\n",
       "      <td>None</td>\n",
       "      <td>False</td>\n",
       "      <td>[11:59, 5/10/2024] Friend:</td>\n",
       "      <td>Message 4</td>\n",
       "      <td>False</td>\n",
       "      <td>False</td>\n",
       "      <td>False</td>\n",
       "    </tr>\n",
       "    <tr>\n",
       "      <th>5</th>\n",
       "      <td>None</td>\n",
       "      <td>None</td>\n",
       "      <td>False</td>\n",
       "      <td>[11:59, 5/10/2024] Friend:</td>\n",
       "      <td>Message 5</td>\n",
       "      <td>False</td>\n",
       "      <td>False</td>\n",
       "      <td>False</td>\n",
       "    </tr>\n",
       "    <tr>\n",
       "      <th>6</th>\n",
       "      <td>None</td>\n",
       "      <td>None</td>\n",
       "      <td>False</td>\n",
       "      <td>[14:02, 5/13/2024] Friend:</td>\n",
       "      <td>Message 6</td>\n",
       "      <td>False</td>\n",
       "      <td>False</td>\n",
       "      <td>False</td>\n",
       "    </tr>\n",
       "    <tr>\n",
       "      <th>7</th>\n",
       "      <td>None</td>\n",
       "      <td>None</td>\n",
       "      <td>False</td>\n",
       "      <td>[14:02, 5/13/2024] Friend:</td>\n",
       "      <td>Message 7</td>\n",
       "      <td>False</td>\n",
       "      <td>False</td>\n",
       "      <td>False</td>\n",
       "    </tr>\n",
       "    <tr>\n",
       "      <th>8</th>\n",
       "      <td>None</td>\n",
       "      <td>None</td>\n",
       "      <td>False</td>\n",
       "      <td>[14:02, 5/13/2024] Friend:</td>\n",
       "      <td>Message 8</td>\n",
       "      <td>False</td>\n",
       "      <td>False</td>\n",
       "      <td>False</td>\n",
       "    </tr>\n",
       "    <tr>\n",
       "      <th>9</th>\n",
       "      <td>None</td>\n",
       "      <td>None</td>\n",
       "      <td>False</td>\n",
       "      <td>[09:20, None] Nic:</td>\n",
       "      <td>None</td>\n",
       "      <td>True</td>\n",
       "      <td>False</td>\n",
       "      <td>False</td>\n",
       "    </tr>\n",
       "  </tbody>\n",
       "</table>\n",
       "</div>"
      ],
      "text/plain": [
       "  sender_of_replied_to_message message_replied_to  \\\n",
       "0                         None               None   \n",
       "1                         None               None   \n",
       "2                         None               None   \n",
       "3                         None               None   \n",
       "4                         None               None   \n",
       "5                         None               None   \n",
       "6                         None               None   \n",
       "7                         None               None   \n",
       "8                         None               None   \n",
       "9                         None               None   \n",
       "\n",
       "   media_in_message_replied_to                message_info    message  \\\n",
       "0                        False     [12:01, 4/25/2024] Nic:  Message 0   \n",
       "1                        False  [12:15, 4/25/2024] Friend:  Message 1   \n",
       "2                        False  [12:15, 4/25/2024] Friend:  Message 2   \n",
       "3                        False     [20:20, 4/27/2024] Nic:  Message 3   \n",
       "4                        False  [11:59, 5/10/2024] Friend:  Message 4   \n",
       "5                        False  [11:59, 5/10/2024] Friend:  Message 5   \n",
       "6                        False  [14:02, 5/13/2024] Friend:  Message 6   \n",
       "7                        False  [14:02, 5/13/2024] Friend:  Message 7   \n",
       "8                        False  [14:02, 5/13/2024] Friend:  Message 8   \n",
       "9                        False          [09:20, None] Nic:       None   \n",
       "\n",
       "   image_in_message  sticker_in_message  video_in_message  \n",
       "0             False               False             False  \n",
       "1             False               False             False  \n",
       "2             False               False             False  \n",
       "3             False               False             False  \n",
       "4             False               False             False  \n",
       "5             False               False             False  \n",
       "6             False               False             False  \n",
       "7             False               False             False  \n",
       "8             False               False             False  \n",
       "9              True               False             False  "
      ]
     },
     "metadata": {},
     "output_type": "display_data"
    }
   ],
   "source": [
    "show_df(dfs[1])"
   ]
  },
  {
   "cell_type": "markdown",
   "id": "5985ea0a",
   "metadata": {},
   "source": [
    "## Getting A List Of All The Contact Names"
   ]
  },
  {
   "cell_type": "code",
   "execution_count": 14,
   "id": "fb5cb60e",
   "metadata": {},
   "outputs": [],
   "source": [
    "contact_names = [None] * len(dfs)\n",
    "index_of_contact = -1\n",
    "\n",
    "for df in dfs:\n",
    "    index_of_contact += 1\n",
    "    unique_names = []\n",
    "    for i in range(len(df)):\n",
    "        if (df['message_info'].iloc[i] != None):\n",
    "\n",
    "            name = df['message_info'].iloc[i].split(']')[1].strip()\n",
    "            name = name[:len(name) - 1]\n",
    "\n",
    "            # In collection of data, some instances had two colons\n",
    "            if (name[-1] == ':'):\n",
    "                name = name[:len(name) - 1]\n",
    "\n",
    "            #make a list of the unique names\n",
    "            if not name in unique_names:\n",
    "                unique_names.append(name)\n",
    "    \n",
    "    for name in unique_names:\n",
    "        if name not in ['Nic', 'You']:\n",
    "            contact_names[index_of_contact] = name\n",
    "            break"
   ]
  },
  {
   "cell_type": "markdown",
   "id": "f033343d",
   "metadata": {},
   "source": [
    "## Removing Unresponsive Contacts\n",
    "\n",
    "- Some contacts could not be identified in the dataset.\n",
    "- In each of these cases, the contact never replied to any of my messages.\n",
    "- This typically occurred in one-sided interactions, such as when I reached out (e.g., to a fellow student) and received no response.\n",
    "- Since these chats contain no reply and therefore provide no usable input for modeling a response pattern, they are excluded from the dataset.\n"
   ]
  },
  {
   "cell_type": "code",
   "execution_count": 15,
   "id": "2289a35b",
   "metadata": {},
   "outputs": [],
   "source": [
    "index_of_contactless_chats = []\n",
    "counter = -1\n",
    "\n",
    "for contact in contact_names:\n",
    "    counter += 1\n",
    "    if contact == None:\n",
    "        index_of_contactless_chats.append(counter)\n",
    "        "
   ]
  },
  {
   "cell_type": "code",
   "execution_count": 16,
   "id": "c1532a05",
   "metadata": {},
   "outputs": [
    {
     "data": {
      "text/plain": [
       "[7, 60, 63, 100]"
      ]
     },
     "execution_count": 16,
     "metadata": {},
     "output_type": "execute_result"
    }
   ],
   "source": [
    "index_of_contactless_chats"
   ]
  },
  {
   "cell_type": "code",
   "execution_count": 17,
   "id": "012c79c9",
   "metadata": {},
   "outputs": [
    {
     "data": {
      "text/html": [
       "<div>\n",
       "<style scoped>\n",
       "    .dataframe tbody tr th:only-of-type {\n",
       "        vertical-align: middle;\n",
       "    }\n",
       "\n",
       "    .dataframe tbody tr th {\n",
       "        vertical-align: top;\n",
       "    }\n",
       "\n",
       "    .dataframe thead th {\n",
       "        text-align: right;\n",
       "    }\n",
       "</style>\n",
       "<table border=\"1\" class=\"dataframe\">\n",
       "  <thead>\n",
       "    <tr style=\"text-align: right;\">\n",
       "      <th></th>\n",
       "      <th>sender_of_replied_to_message</th>\n",
       "      <th>message_replied_to</th>\n",
       "      <th>media_in_message_replied_to</th>\n",
       "      <th>message_info</th>\n",
       "      <th>message</th>\n",
       "      <th>image_in_message</th>\n",
       "      <th>sticker_in_message</th>\n",
       "      <th>video_in_message</th>\n",
       "    </tr>\n",
       "  </thead>\n",
       "  <tbody>\n",
       "    <tr>\n",
       "      <th>0</th>\n",
       "      <td>None</td>\n",
       "      <td>None</td>\n",
       "      <td>False</td>\n",
       "      <td>[12:07, None] Nic:</td>\n",
       "      <td>None</td>\n",
       "      <td>False</td>\n",
       "      <td>False</td>\n",
       "      <td>False</td>\n",
       "    </tr>\n",
       "    <tr>\n",
       "      <th>1</th>\n",
       "      <td>None</td>\n",
       "      <td>None</td>\n",
       "      <td>False</td>\n",
       "      <td>[12:07, None] Nic:</td>\n",
       "      <td>None</td>\n",
       "      <td>False</td>\n",
       "      <td>False</td>\n",
       "      <td>False</td>\n",
       "    </tr>\n",
       "    <tr>\n",
       "      <th>2</th>\n",
       "      <td>None</td>\n",
       "      <td>None</td>\n",
       "      <td>False</td>\n",
       "      <td>None</td>\n",
       "      <td>None</td>\n",
       "      <td>True</td>\n",
       "      <td>False</td>\n",
       "      <td>False</td>\n",
       "    </tr>\n",
       "  </tbody>\n",
       "</table>\n",
       "</div>"
      ],
      "text/plain": [
       "  sender_of_replied_to_message message_replied_to  \\\n",
       "0                         None               None   \n",
       "1                         None               None   \n",
       "2                         None               None   \n",
       "\n",
       "   media_in_message_replied_to        message_info message  image_in_message  \\\n",
       "0                        False  [12:07, None] Nic:    None             False   \n",
       "1                        False  [12:07, None] Nic:    None             False   \n",
       "2                        False                None    None              True   \n",
       "\n",
       "   sticker_in_message  video_in_message  \n",
       "0               False             False  \n",
       "1               False             False  \n",
       "2               False             False  "
      ]
     },
     "metadata": {},
     "output_type": "display_data"
    }
   ],
   "source": [
    "show_df(dfs[63])"
   ]
  },
  {
   "cell_type": "markdown",
   "id": "aa6178af",
   "metadata": {},
   "source": [
    "### Removing These chats data frames from the list of data frames"
   ]
  },
  {
   "cell_type": "code",
   "execution_count": 18,
   "id": "1f050646",
   "metadata": {},
   "outputs": [],
   "source": [
    "dfs = [df for i, df in enumerate(dfs) if i not in index_of_contactless_chats]"
   ]
  },
  {
   "cell_type": "code",
   "execution_count": 19,
   "id": "b30e10a8",
   "metadata": {},
   "outputs": [],
   "source": [
    "contact_names = [contact for i, contact in enumerate(contact_names) if i not in index_of_contactless_chats]"
   ]
  },
  {
   "cell_type": "markdown",
   "id": "e7de1bb9",
   "metadata": {},
   "source": [
    "## Removing Non-Text Message Information\n",
    "\n",
    "- This project focuses solely on text-based communication.\n",
    "- Therefore, columns that indicate whether a message included media (e.g., images or files) are removed.\n",
    "- Additionally, any columns that exclusively contain media content and no textual data are also excluded from the dataset.\n"
   ]
  },
  {
   "cell_type": "code",
   "execution_count": 20,
   "id": "9f1d486e",
   "metadata": {},
   "outputs": [],
   "source": [
    "for i in range(len(dfs)):\n",
    "    #Selecting the columns I want\n",
    "    dfs[i] = dfs[i][['sender_of_replied_to_message', 'message_replied_to', 'message_info', 'message']]\n",
    "    \n",
    "    #Finding the indexs of the rows without text\n",
    "    obs_without_txt = dfs[i].index[np.where(dfs[i]['message'].isna())]\n",
    "    \n",
    "    #removing these rows\n",
    "    dfs[i] = dfs[i].drop(index=obs_without_txt)"
   ]
  },
  {
   "cell_type": "code",
   "execution_count": 21,
   "id": "ff1c84a7",
   "metadata": {},
   "outputs": [],
   "source": [
    "splt_info = dfs[1].iloc[0]['message_info'].split(',')"
   ]
  },
  {
   "cell_type": "markdown",
   "id": "82c46438",
   "metadata": {},
   "source": [
    "### Splitting the Message DataFrame into Two Groups\n",
    "\n",
    "To prepare the dataset for training, the messages are divided into two distinct groups based on conversational structure:\n",
    "\n",
    "1. **Group 1**: Messages that I sent as direct replies to specific messages received from someone else.  \n",
    "   - These pairs can be used to train the model on clear, one-to-one response behavior — making them ideal for learning how I typically respond to specific prompts or questions.\n",
    "   \n",
    "   \n",
    "\n",
    "2. **Group 2**: Sequences of messages that are not direct replies, but are part of a broader conversation thread.  \n",
    "   - These sequences help the model learn the flow of conversation over time, including how I communicate across multiple turns when there's no single message being responded to.\n",
    "\n",
    "Separating the messages in this way allows for more nuanced training and evaluation, as the model can be exposed to both structured reply behavior and natural multi-turn conversation dynamics."
   ]
  },
  {
   "cell_type": "code",
   "execution_count": 22,
   "id": "22e3e903",
   "metadata": {},
   "outputs": [],
   "source": [
    "for i in range(len(dfs)):\n",
    "    name = contact_names[i]\n",
    "    \n",
    "    # Get the indexs of the messages with replies\n",
    "    messages_with_replies = dfs[i].index[np.where(dfs[i]['message_replied_to'].notna())]\n",
    "    all_replies = dfs[i].loc[messages_with_replies].copy()\n",
    "    \n",
    "    # Get the indexs of the replies that I sent\n",
    "    where_i_responded = all_replies.index[np.where(all_replies['sender_of_replied_to_message'] == name)]\n",
    "    my_direct_responses = all_replies.loc[where_i_responded]\n",
    "    \n",
    "    # Add the direct responses to the data_set\n",
    "    data_set = pd.concat([data_set, my_direct_responses], ignore_index=True)\n",
    "    \n",
    "    # Remove the used indexs from the data frames in dfs\n",
    "    dfs[i] = dfs[i].drop(messages_with_replies)\n",
    "    dfs[i] = dfs[i][['message_info', 'message']]"
   ]
  },
  {
   "cell_type": "markdown",
   "id": "afe27302",
   "metadata": {},
   "source": [
    "### Reducing the Dataset to Essential Columns\n",
    "\n",
    "- For the purposes of training the language model, only the **message** and its corresponding **reply** are needed.\n",
    "- All other metadata (such as sender identity, timestamps, and media indicators) is not relevant to the model’s objective and is therefore removed.\n",
    "- The final dataset is structured with two columns:  \n",
    "  - **`message`**: the input (a message sent to me)  \n",
    "  - **`reply`**: the response (my direct reply to that message)\n",
    "\n",
    "- These message–reply pairs are primarily sourced from the group of messages that are direct responses to a message I received.\n",
    "- This ensures that each pair in the dataset reflects a real conversational exchange where the model can learn how I typically respond to specific inputs.\n"
   ]
  },
  {
   "cell_type": "code",
   "execution_count": 23,
   "id": "86ff97a7",
   "metadata": {},
   "outputs": [],
   "source": [
    "cols = ['Message', 'Reply']\n",
    "\n",
    "data_set = data_set.drop(columns=['sender_of_replied_to_message', 'message_info'])\n",
    "data_set.columns = cols"
   ]
  },
  {
   "cell_type": "markdown",
   "id": "04f0cffb",
   "metadata": {},
   "source": [
    "## Processing the Remaining Messages\n",
    "\n",
    "- The remaining messages that are not direct replies may still be valuable if they are part of a coherent message sequence.\n",
    "- Often, a single idea or response is split across multiple consecutive messages sent within a short time frame.\n",
    "- To include these in the dataset, I group together sequential messages based on their timestamps:\n",
    "    - If two or more messages are sent close together in time, they are combined into a single input or reply.\n",
    "- This allows these message sequences to be used as valid **message–reply pairs** for training the model, even if they weren’t directly linked by a reply indicator.\n"
   ]
  },
  {
   "cell_type": "code",
   "execution_count": 24,
   "id": "c29e343b",
   "metadata": {},
   "outputs": [],
   "source": [
    "for i in range(len(dfs)):\n",
    "    messages = dfs[i]['message_info']\n",
    "    them = []\n",
    "    time = []\n",
    "    day = []\n",
    "    month = []\n",
    "    year = []\n",
    "    \n",
    "    # Seperate the relevant information\n",
    "    for message in messages:\n",
    "        splt = message.split(']')\n",
    "\n",
    "        # Handle the name of the sender\n",
    "        name = splt[1].strip()[:]\n",
    "        if name == \"Nic:\" or name == \"You::\":\n",
    "            them.append(0)\n",
    "        else:\n",
    "            them.append(1)\n",
    "\n",
    "        time_and_date = splt[0].split(',')\n",
    "\n",
    "        # Handle the time\n",
    "        time.append(time_and_date[0][1:])\n",
    "\n",
    "        #handle date\n",
    "        date = time_and_date[1].strip().split('/')\n",
    "\n",
    "        month.append(date[0])\n",
    "        day.append(date[1])\n",
    "        year.append(date[2])\n",
    "    \n",
    "    df2 = pd.DataFrame({\n",
    "    'Them': them,\n",
    "    'Time': time,\n",
    "    'day': day,\n",
    "    'month': month,\n",
    "    'year': year\n",
    "    })\n",
    "    \n",
    "\n",
    "    # Concatenate\n",
    "    dfs[i] = pd.concat([dfs[i]['message'].reset_index(drop=True), df2.reset_index(drop=True)], axis=1)"
   ]
  },
  {
   "cell_type": "code",
   "execution_count": 25,
   "id": "931591f2",
   "metadata": {},
   "outputs": [],
   "source": [
    "for j in range(len(dfs)):\n",
    "    for i in range(len(dfs[j])):\n",
    "        dfs[j].at[i, 'Time'] = f\"{dfs[j].at[i, 'year']}:{dfs[j].at[i, 'month']}:{dfs[j].at[i, 'day']}:{dfs[j].at[i, 'Time']}\"\n",
    "    \n",
    "    # drop the left over cells\n",
    "    dfs[j].drop(columns=['day', 'month', 'year'], inplace=True)\n",
    "    \n",
    "    #Now turn the time of the message sent into a datetime object, which would allow for comparisons\n",
    "    for i in range(len(dfs[j])):\n",
    "        dfs[j].at[i, 'Time'] = datetime.strptime(dfs[j].at[i, 'Time'], '%Y:%m:%d:%H:%M')\n",
    "    \n",
    "    "
   ]
  },
  {
   "cell_type": "markdown",
   "id": "5e2fbcd5",
   "metadata": {},
   "source": [
    "## Joining Sequential Messages To Finish Building The Final Dataset\n",
    "\n",
    "To preserve as much meaningful conversational data as possible, the following rules are implemented to combine messages into valid **message–reply pairs**:\n",
    "\n",
    "1. The sequence begins with the **first message sent by the other person**.\n",
    "    - If they send multiple messages within a **30-minute window**, these are grouped together as a single input, separated by commas.\n",
    "\n",
    "2. If I reply **within 48 hours** of the first message, my response is recorded as the corresponding **reply**.\n",
    "\n",
    "3. Any additional messages I send **within 30 minutes of my first reply** are also considered part of the reply and are joined together using commas.\n",
    "    - If I send another message **after** this 30-minute window, it is assumed to be the start of a **new conversation** and is not included in the previous reply.\n",
    "\n",
    "> **Note**: If no reply is sent within 48 hours, the original message (and its group) is discarded, as it cannot be paired meaningfully with a response.\n"
   ]
  },
  {
   "cell_type": "code",
   "execution_count": 26,
   "id": "82f1f580",
   "metadata": {},
   "outputs": [],
   "source": [
    "joined_df = pd.DataFrame(columns=['Message', 'Reply'])\n",
    "\n",
    "for j in range(len(dfs)):\n",
    "    df = dfs[j]\n",
    "\n",
    "    i = 0\n",
    "\n",
    "    inputs = []\n",
    "    outputs = []\n",
    "\n",
    "    while i < len(df):\n",
    "        row = df.iloc[i]\n",
    "\n",
    "        input_msg = []\n",
    "        first_input_time = None\n",
    "        output_msg = []\n",
    "        first_output_time = None\n",
    "\n",
    "        # Check for start of conversation (message from Them)\n",
    "        if row['Them'] == 1:\n",
    "            input_msg.append(row['message'])\n",
    "            first_input_time = row['Time']\n",
    "            i += 1\n",
    "\n",
    "            # Gather any additional messages from Them within 30 minutes\n",
    "            while i < len(df) and df.iloc[i]['Them'] == 1:\n",
    "                next_row = df.iloc[i]\n",
    "                if next_row['Time'] - first_input_time <= timedelta(minutes=30):\n",
    "                    input_msg.append(next_row['message'])\n",
    "                    i += 1\n",
    "                else:\n",
    "                    break\n",
    "\n",
    "\n",
    "            # Now look for first reply from You within 48 hours\n",
    "            reply_found = False\n",
    "            while i < len(df):\n",
    "                row = df.iloc[i]\n",
    "                if row['Them'] == 0 and row['Time'] - first_input_time <= timedelta(hours=100):\n",
    "                    # First reply found\n",
    "                    output_msg.append(row['message'])\n",
    "                    first_output_time = row['Time']\n",
    "                    i += 1\n",
    "                    reply_found = True\n",
    "\n",
    "                    # Gather any further replies within 30 minutes of first reply\n",
    "                    while i < len(df) and df.iloc[i]['Them'] == 0:\n",
    "                        next_row = df.iloc[i]\n",
    "                        if next_row['Time'] - first_output_time <= timedelta(minutes=30):\n",
    "                            output_msg.append(next_row['message'])\n",
    "                            i += 1\n",
    "                        else:\n",
    "                            break  # Stop collecting replies\n",
    "                    break  # Done with this Q&A pair\n",
    "                elif row['Them'] == 1:\n",
    "                    # Another message from Them arrived before a reply → stop search\n",
    "                    break\n",
    "                else:\n",
    "                    i += 1\n",
    "\n",
    "            # Only store the pair if a reply was found\n",
    "            if reply_found:\n",
    "                inputs.append(\"\\n\".join(input_msg))\n",
    "                outputs.append(\"\\n\".join(output_msg))\n",
    "\n",
    "        else:\n",
    "            i += 1  # Skip if the message isn't from Them\n",
    "    \n",
    "    temp = pd.DataFrame({'Message': inputs, 'Reply': outputs})\n",
    "\n",
    "    # Build final dataset\n",
    "    joined_df = pd.concat([joined_df, temp], ignore_index=True)\n",
    "    "
   ]
  },
  {
   "cell_type": "markdown",
   "id": "1ccfe8a7",
   "metadata": {},
   "source": [
    "### Example of a Message and Response Obtained Using the Above Rules"
   ]
  },
  {
   "cell_type": "code",
   "execution_count": 27,
   "id": "5dba6048",
   "metadata": {},
   "outputs": [
    {
     "data": {
      "text/plain": [
       "Message    Added you. Please let me know if you got it. \n",
       "Reply                         I did get it thank you !!!\n",
       "Name: 1807, dtype: object"
      ]
     },
     "metadata": {},
     "output_type": "display_data"
    }
   ],
   "source": [
    "display(joined_df.iloc[1807])"
   ]
  },
  {
   "cell_type": "markdown",
   "id": "6c1ef216",
   "metadata": {},
   "source": [
    "## Merging Sequentially Joined Pairs with Direct Reply Pairs\n",
    "\n",
    "Now that we have constructed message–reply pairs from sequential message groups, we can combine them with the direct reply pairs created earlier.\n",
    "\n",
    "By merging both types:\n",
    "- We ensure the dataset captures a wide range of conversational patterns — from clearly defined, one-to-one replies to more natural, multi-turn exchanges.\n",
    "- This enriches the training data and allows the language model to generalize better across different messaging contexts.\n"
   ]
  },
  {
   "cell_type": "code",
   "execution_count": 28,
   "id": "c830739b",
   "metadata": {},
   "outputs": [],
   "source": [
    "data_set = pd.concat([data_set, joined_df], ignore_index=True)"
   ]
  },
  {
   "cell_type": "markdown",
   "id": "dd83f76e",
   "metadata": {},
   "source": [
    "<div style=\"background-color:#FFA726;padding:10px;border-radius:5px;text-align: center;\">\n",
    "    <h2>Exporting The Final Data Set</h2>\n",
    "</div>"
   ]
  },
  {
   "cell_type": "code",
   "execution_count": 29,
   "id": "ed730698",
   "metadata": {},
   "outputs": [],
   "source": [
    "data_set.to_csv(\"message_reply_pairs.csv\", index=False)"
   ]
  }
 ],
 "metadata": {
  "kernelspec": {
   "display_name": "Python 3 (ipykernel)",
   "language": "python",
   "name": "python3"
  },
  "language_info": {
   "codemirror_mode": {
    "name": "ipython",
    "version": 3
   },
   "file_extension": ".py",
   "mimetype": "text/x-python",
   "name": "python",
   "nbconvert_exporter": "python",
   "pygments_lexer": "ipython3",
   "version": "3.12.2"
  }
 },
 "nbformat": 4,
 "nbformat_minor": 5
}
